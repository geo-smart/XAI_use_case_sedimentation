{
 "cells": [
  {
   "cell_type": "code",
   "execution_count": 1,
   "id": "6b84294b",
   "metadata": {},
   "outputs": [
    {
     "name": "stderr",
     "output_type": "stream",
     "text": [
      "/Users/etiennechenevert/opt/anaconda3/envs/qwasd/lib/python3.9/site-packages/tqdm/auto.py:22: TqdmWarning: IProgress not found. Please update jupyter and ipywidgets. See https://ipywidgets.readthedocs.io/en/stable/user_install.html\n",
      "  from .autonotebook import tqdm as notebook_tqdm\n"
     ]
    }
   ],
   "source": [
    "# import all packages\n",
    "import pandas as pd \n",
    "import numpy as np \n",
    "import textwrap \n",
    "\n",
    "import seaborn as sns \n",
    "import matplotlib.pyplot as plt \n",
    "\n",
    "import shap \n",
    "\n",
    "from sklearn.preprocessing import StandardScaler \n",
    "from sklearn import linear_model \n",
    "\n",
    "from sklearn.model_selection import KFold, cross_validate, cross_val_predict, RepeatedKFold, cross_val_score, GridSearchCV \n",
    "from sklearn.metrics import r2_score, mean_absolute_error \n",
    "\n",
    "import statsmodels.api as sm"
   ]
  },
  {
   "cell_type": "markdown",
   "id": "27c0da81",
   "metadata": {},
   "source": [
    "<a id='_DataDescriptions'></a>\n",
    "## Brief Data Descriptions\n",
    "\n",
    "Getting to know our data is crucial. This way we know what processes we are incorporating into our model, which we are excluding, and how many samples we have to capture the full relationship of vertical accretion. "
   ]
  },
  {
   "cell_type": "code",
   "execution_count": 2,
   "id": "31cf12d5",
   "metadata": {},
   "outputs": [
    {
     "name": "stdout",
     "output_type": "stream",
     "text": [
      "Index(['Unnamed: 0', 'Accretion Rate (mm/yr)', 'Soil Porewater Salinity (ppt)',\n",
      "       'Average Height Dominant (cm)', 'NDVI', 'TSS (mg/l)', 'Windspeed (m/s)',\n",
      "       'Avg. Time Flooded (%)', 'Flood Freq (Floods/yr)',\n",
      "       'Log Distance to Water (km)', 'Log Distance to River (km)', 'Community',\n",
      "       'Latitude', 'Longitude', 'Organic Matter (%)', 'Bulk Density (g/cm3)',\n",
      "       'Tidal Amplitude (cm)', '90th Percentile Flood Depth (cm)',\n",
      "       '10th Percentile Flood Depth (cm)', 'Avg. Flood Depth (cm)',\n",
      "       'Std. Deviation Flood Depth (cm)'],\n",
      "      dtype='object')\n"
     ]
    }
   ],
   "source": [
    "url = \"https://raw.githubusercontent.com/geo-smart/XAI_coastalLA/main/ESIP_dataset4.csv\" # Make sure the url is the raw version of the file on GitHub\n",
    "df = pd.read_csv(url)\n",
    "print(df.columns) # lets see what variables we are working with"
   ]
  },
  {
   "cell_type": "code",
   "execution_count": 3,
   "id": "5ad762ee",
   "metadata": {},
   "outputs": [
    {
     "name": "stdout",
     "output_type": "stream",
     "text": [
      "Number of samples in dataset:  266\n",
      "Number of features in the dataset:  21\n"
     ]
    }
   ],
   "source": [
    "# lets know how many variables and how many samples we have to work with\n",
    "print(\"Number of samples in dataset: \", len(df))\n",
    "print(\"Number of features in the dataset: \", len(df.columns))"
   ]
  },
  {
   "cell_type": "code",
   "execution_count": 4,
   "id": "dac277d6",
   "metadata": {},
   "outputs": [],
   "source": [
    "# There are some unnecessary and/or uninformative variables in here, so lets remove them\n",
    "df = df.drop([\n",
    "    'Longitude', 'Latitude', 'Bulk Density (g/cm3)', 'Organic Matter (%)'\n",
    "], axis=1)"
   ]
  },
  {
   "cell_type": "markdown",
   "id": "06d0a816",
   "metadata": {},
   "source": [
    "I removed the variables longitude, latitude, bulk density (g/cm3), and organic matter (%) because they do not provide us with an associated transport mechanism or biologic process such as flooding, biomass production, biomass decay, erosion, etc. Latitude and longitude are only geographic descriptions of where sites are situated, making them uninformative towards a process understanding of vertical accretion. While bulk density and organic matter (%) are descriptions of the soil that has already been deposited, rather than *how* it might have been deposited."
   ]
  },
  {
   "cell_type": "code",
   "execution_count": 5,
   "id": "847af520",
   "metadata": {},
   "outputs": [
    {
     "name": "stdout",
     "output_type": "stream",
     "text": [
      "['Accretion Rate (mm/yr)', 'Soil Porewater Salinity (ppt)', 'Average Height Dominant (cm)', 'NDVI', 'TSS (mg/l)', 'Windspeed (m/s)', 'Avg. Time Flooded (%)', 'Flood Freq (Floods/yr)', 'Log Distance to Water (km)', 'Log Distance to River (km)', 'Community', 'Tidal Amplitude (cm)', '90th Percentile Flood Depth (cm)', '10th Percentile Flood Depth (cm)', 'Avg. Flood Depth (cm)']\n"
     ]
    }
   ],
   "source": [
    "outcome = 'Accretion Rate (mm/yr)'\n",
    "feature_ls = list(df.columns.values[1:-1]) # make a list including all the variables; \n",
    "                                           # excluding the categorical Site and Maarsh community variables\n",
    "print(feature_ls)"
   ]
  },
  {
   "cell_type": "markdown",
   "id": "41b269b1",
   "metadata": {},
   "source": [
    "## Variable Descriptions\n",
    "\n",
    "The remaining variables that will be used in the analysis are: \n",
    "* **Accretion Rate (mm/yr)**: The amount of sediment deposited above a datum. Recorded with a 6 to 18 month sampling interval.\n",
    "* **Soil Porewater Salinity (ppt)**: Measured from a syringe inserted into the soil. Recorded variably to annually.\n",
    "* **Average Height Dominant (cm)**: Survey measurement of the average height of the dominant vegetation species. Sampled annually. \n",
    "* **NDVI**: The Normalized Difference Vegetation Index which is an estimate of aboveground biomass from Landsat 7. Samples consisted of an 8 day averages only collected during the months of peak biomass, July-August.\n",
    "* **TSS (mg/l)**: Estimate of Total Suspended Sediment (TSS) from MODIS. With a 2-day sampling (recurrance) interval.\n",
    "* **Windspeed**: Reanalysis data from the Global Wind Atlas available from Google Earth Engine (GEE) (The Global Wind Atlas 3 2022).\n",
    "* **Tidal Amplitude (cm)**: The average daily difference between the highest recorded and lowest hourly water-level as recorded from an underwater sonde.\n",
    "* **Average Time Flooded (%)**: The percentage of time in which the water-level exceeds the elevation of the marsh. Calculated from hourly water-level measurements from an underwater sonde.\n",
    "* **Flood Frequency (Floods/yr)**: The number of times that the water-level exceeds the elevation of the marsh. Calculated from hourly water-level measurements from an underwater sonde.\n",
    "* **Average Flood Depth (cm)**: The average waterlevel when the water-level is higher than the marsh elevation. Calculated from hourly water-level measurements from an underwater sonde. \n",
    "* **90th Percentile Flood Depth (cm)**: The 90th percentile of the time series distribution of average flood depth. Calculated from hourly water-level measurements from an underwater sonde.\n",
    "* **10th Percentile Flood Depth (cm)**: The 10th percentile of the time series distribution of average flood depth. Calculated from hourly water-level measurements from an underwater sonde.\n",
    "* **Std. Deviation Flood Depth (cm)**: The standard deviation of the time series distribution of average flood depth. Calculated from hourly water-level measurements from an underwater sonde. \n",
    "* **Log Distance to Water (km)**: The log of the distance to the nearest water pixel (90% recurrence). As calcculated by the JRC Global Surface Water Dataset (Pekkel et al 2016).\n",
    "* **Log Distance to River (km)**: The log of the distance to the nearest Global River Width from Landsat (GRWL) dataset river vectors taken from GEE (Allen and Pavelsky 2018). \n",
    "* **Community**: Marsh Community (Freshwater, Intermediate, Brackish, Saline, Swamp) determined from surveys of                        vegetation and salinity gradients.\n",
    "\n",
    "Note that all of these variables spanned either the lifespan of a CRMS site which largely encapsulates 2007 to 2022 (Wagner and Haywood III 2022). "
   ]
  },
  {
   "cell_type": "code",
   "execution_count": 6,
   "id": "686b5236",
   "metadata": {},
   "outputs": [
    {
     "data": {
      "image/png": "[encoded data removed]",
      "text/plain": [
       "<Figure size 700x500 with 1 Axes>"
      ]
     },
     "metadata": {},
     "output_type": "display_data"
    }
   ],
   "source": [
    "# Let's visualize what we want to predict, 'Accretion Rate (mm/yr)'\n",
    "f = plt.figure(figsize=(7, 5))\n",
    "ax = f.add_subplot(1, 1, 1)\n",
    "sns.histplot(data=df, ax=ax, stat=\"count\", multiple=\"stack\",\n",
    "             x=\"Accretion Rate (mm/yr)\", kde=False,\n",
    "             hue=\"Community\",\n",
    "             element=\"bars\", legend=True)\n",
    "ax.set_title(\"Distribution of Accretion Rates\")\n",
    "ax.set_xlabel(\"Accretion Rate (mm/yr)\")\n",
    "ax.set_ylabel(\"Count\")\n",
    "plt.show()"
   ]
  },
  {
   "cell_type": "code",
   "execution_count": 7,
   "id": "1948f309",
   "metadata": {},
   "outputs": [],
   "source": [
    "# Let's define our target and design matrix for our ML job\n",
    "target = df[outcome]\n",
    "phi = df.drop(['Unnamed: 0', 'Accretion Rate (mm/yr)', 'Community'], axis=1)"
   ]
  },
  {
   "cell_type": "code",
   "execution_count": 8,
   "id": "b085d240",
   "metadata": {},
   "outputs": [
    {
     "data": {
      "text/plain": [
       "count    266.000000\n",
       "mean      13.093916\n",
       "std        6.449721\n",
       "min        2.128280\n",
       "25%        8.226964\n",
       "50%       12.174938\n",
       "75%       16.227400\n",
       "max       32.589286\n",
       "Name: Accretion Rate (mm/yr), dtype: float64"
      ]
     },
     "execution_count": 8,
     "metadata": {},
     "output_type": "execute_result"
    }
   ],
   "source": [
    "# Let's get a picture of the target variable, vertical accretion\n",
    "target.describe()"
   ]
  },
  {
   "cell_type": "code",
   "execution_count": 9,
   "id": "2a9f2720",
   "metadata": {
    "scrolled": true
   },
   "outputs": [
    {
     "data": {
      "text/html": [
       "<div>\n",
       "<style scoped>\n",
       "    .dataframe tbody tr th:only-of-type {\n",
       "        vertical-align: middle;\n",
       "    }\n",
       "\n",
       "    .dataframe tbody tr th {\n",
       "        vertical-align: top;\n",
       "    }\n",
       "\n",
       "    .dataframe thead th {\n",
       "        text-align: right;\n",
       "    }\n",
       "</style>\n",
       "<table border=\"1\" class=\"dataframe\">\n",
       "  <thead>\n",
       "    <tr style=\"text-align: right;\">\n",
       "      <th></th>\n",
       "      <th>Soil Porewater Salinity (ppt)</th>\n",
       "      <th>Average Height Dominant (cm)</th>\n",
       "      <th>NDVI</th>\n",
       "      <th>TSS (mg/l)</th>\n",
       "      <th>Windspeed (m/s)</th>\n",
       "      <th>Avg. Time Flooded (%)</th>\n",
       "      <th>Flood Freq (Floods/yr)</th>\n",
       "      <th>Log Distance to Water (km)</th>\n",
       "      <th>Log Distance to River (km)</th>\n",
       "      <th>Tidal Amplitude (cm)</th>\n",
       "      <th>90th Percentile Flood Depth (cm)</th>\n",
       "      <th>10th Percentile Flood Depth (cm)</th>\n",
       "      <th>Avg. Flood Depth (cm)</th>\n",
       "      <th>Std. Deviation Flood Depth (cm)</th>\n",
       "    </tr>\n",
       "  </thead>\n",
       "  <tbody>\n",
       "    <tr>\n",
       "      <th>count</th>\n",
       "      <td>266.000000</td>\n",
       "      <td>266.000000</td>\n",
       "      <td>266.000000</td>\n",
       "      <td>266.000000</td>\n",
       "      <td>266.000000</td>\n",
       "      <td>266.000000</td>\n",
       "      <td>266.000000</td>\n",
       "      <td>266.000000</td>\n",
       "      <td>266.000000</td>\n",
       "      <td>266.000000</td>\n",
       "      <td>266.000000</td>\n",
       "      <td>266.000000</td>\n",
       "      <td>266.000000</td>\n",
       "      <td>266.000000</td>\n",
       "    </tr>\n",
       "    <tr>\n",
       "      <th>mean</th>\n",
       "      <td>7.186861</td>\n",
       "      <td>112.439643</td>\n",
       "      <td>0.353358</td>\n",
       "      <td>31.821080</td>\n",
       "      <td>6.683651</td>\n",
       "      <td>39.207975</td>\n",
       "      <td>261.107686</td>\n",
       "      <td>0.342556</td>\n",
       "      <td>3.026571</td>\n",
       "      <td>9.283287</td>\n",
       "      <td>24.836617</td>\n",
       "      <td>0.314712</td>\n",
       "      <td>9.731371</td>\n",
       "      <td>11.897189</td>\n",
       "    </tr>\n",
       "    <tr>\n",
       "      <th>std</th>\n",
       "      <td>6.039870</td>\n",
       "      <td>28.938786</td>\n",
       "      <td>0.110811</td>\n",
       "      <td>13.033298</td>\n",
       "      <td>0.272169</td>\n",
       "      <td>28.512498</td>\n",
       "      <td>549.612559</td>\n",
       "      <td>1.077911</td>\n",
       "      <td>1.004707</td>\n",
       "      <td>9.204314</td>\n",
       "      <td>9.858570</td>\n",
       "      <td>1.560128</td>\n",
       "      <td>5.785805</td>\n",
       "      <td>3.026577</td>\n",
       "    </tr>\n",
       "    <tr>\n",
       "      <th>min</th>\n",
       "      <td>0.100000</td>\n",
       "      <td>54.860000</td>\n",
       "      <td>0.057249</td>\n",
       "      <td>0.000000</td>\n",
       "      <td>5.864558</td>\n",
       "      <td>0.000000</td>\n",
       "      <td>0.000000</td>\n",
       "      <td>-3.534766</td>\n",
       "      <td>-1.828729</td>\n",
       "      <td>0.060442</td>\n",
       "      <td>0.914400</td>\n",
       "      <td>0.000000</td>\n",
       "      <td>1.173515</td>\n",
       "      <td>4.595155</td>\n",
       "    </tr>\n",
       "    <tr>\n",
       "      <th>25%</th>\n",
       "      <td>2.425000</td>\n",
       "      <td>97.000000</td>\n",
       "      <td>0.292554</td>\n",
       "      <td>28.556742</td>\n",
       "      <td>6.525110</td>\n",
       "      <td>15.867526</td>\n",
       "      <td>51.426390</td>\n",
       "      <td>-0.110944</td>\n",
       "      <td>2.519015</td>\n",
       "      <td>0.312294</td>\n",
       "      <td>18.267426</td>\n",
       "      <td>0.000000</td>\n",
       "      <td>5.835615</td>\n",
       "      <td>10.014167</td>\n",
       "    </tr>\n",
       "    <tr>\n",
       "      <th>50%</th>\n",
       "      <td>5.600000</td>\n",
       "      <td>108.300000</td>\n",
       "      <td>0.364691</td>\n",
       "      <td>32.970487</td>\n",
       "      <td>6.703245</td>\n",
       "      <td>39.127680</td>\n",
       "      <td>161.037234</td>\n",
       "      <td>0.268765</td>\n",
       "      <td>3.257276</td>\n",
       "      <td>6.584424</td>\n",
       "      <td>24.292560</td>\n",
       "      <td>0.000000</td>\n",
       "      <td>8.483845</td>\n",
       "      <td>11.656643</td>\n",
       "    </tr>\n",
       "    <tr>\n",
       "      <th>75%</th>\n",
       "      <td>10.300000</td>\n",
       "      <td>122.100000</td>\n",
       "      <td>0.399708</td>\n",
       "      <td>39.331860</td>\n",
       "      <td>6.872427</td>\n",
       "      <td>59.170743</td>\n",
       "      <td>250.736063</td>\n",
       "      <td>1.187492</td>\n",
       "      <td>3.814583</td>\n",
       "      <td>18.043368</td>\n",
       "      <td>29.794200</td>\n",
       "      <td>0.000000</td>\n",
       "      <td>12.263635</td>\n",
       "      <td>13.760751</td>\n",
       "    </tr>\n",
       "    <tr>\n",
       "      <th>max</th>\n",
       "      <td>27.500000</td>\n",
       "      <td>315.800000</td>\n",
       "      <td>0.627081</td>\n",
       "      <td>65.011248</td>\n",
       "      <td>7.315856</td>\n",
       "      <td>99.999999</td>\n",
       "      <td>4693.096330</td>\n",
       "      <td>2.504450</td>\n",
       "      <td>4.314392</td>\n",
       "      <td>27.500165</td>\n",
       "      <td>65.257680</td>\n",
       "      <td>18.592800</td>\n",
       "      <td>41.731574</td>\n",
       "      <td>24.649485</td>\n",
       "    </tr>\n",
       "  </tbody>\n",
       "</table>\n",
       "</div>"
      ],
      "text/plain": [
       "       Soil Porewater Salinity (ppt)  Average Height Dominant (cm)  \\\n",
       "count                     266.000000                    266.000000   \n",
       "mean                        7.186861                    112.439643   \n",
       "std                         6.039870                     28.938786   \n",
       "min                         0.100000                     54.860000   \n",
       "25%                         2.425000                     97.000000   \n",
       "50%                         5.600000                    108.300000   \n",
       "75%                        10.300000                    122.100000   \n",
       "max                        27.500000                    315.800000   \n",
       "\n",
       "             NDVI  TSS (mg/l)  Windspeed (m/s)  Avg. Time Flooded (%)  \\\n",
       "count  266.000000  266.000000       266.000000             266.000000   \n",
       "mean     0.353358   31.821080         6.683651              39.207975   \n",
       "std      0.110811   13.033298         0.272169              28.512498   \n",
       "min      0.057249    0.000000         5.864558               0.000000   \n",
       "25%      0.292554   28.556742         6.525110              15.867526   \n",
       "50%      0.364691   32.970487         6.703245              39.127680   \n",
       "75%      0.399708   39.331860         6.872427              59.170743   \n",
       "max      0.627081   65.011248         7.315856              99.999999   \n",
       "\n",
       "       Flood Freq (Floods/yr)  Log Distance to Water (km)  \\\n",
       "count              266.000000                  266.000000   \n",
       "mean               261.107686                    0.342556   \n",
       "std                549.612559                    1.077911   \n",
       "min                  0.000000                   -3.534766   \n",
       "25%                 51.426390                   -0.110944   \n",
       "50%                161.037234                    0.268765   \n",
       "75%                250.736063                    1.187492   \n",
       "max               4693.096330                    2.504450   \n",
       "\n",
       "       Log Distance to River (km)  Tidal Amplitude (cm)  \\\n",
       "count                  266.000000            266.000000   \n",
       "mean                     3.026571              9.283287   \n",
       "std                      1.004707              9.204314   \n",
       "min                     -1.828729              0.060442   \n",
       "25%                      2.519015              0.312294   \n",
       "50%                      3.257276              6.584424   \n",
       "75%                      3.814583             18.043368   \n",
       "max                      4.314392             27.500165   \n",
       "\n",
       "       90th Percentile Flood Depth (cm)  10th Percentile Flood Depth (cm)  \\\n",
       "count                        266.000000                        266.000000   \n",
       "mean                          24.836617                          0.314712   \n",
       "std                            9.858570                          1.560128   \n",
       "min                            0.914400                          0.000000   \n",
       "25%                           18.267426                          0.000000   \n",
       "50%                           24.292560                          0.000000   \n",
       "75%                           29.794200                          0.000000   \n",
       "max                           65.257680                         18.592800   \n",
       "\n",
       "       Avg. Flood Depth (cm)  Std. Deviation Flood Depth (cm)  \n",
       "count             266.000000                       266.000000  \n",
       "mean                9.731371                        11.897189  \n",
       "std                 5.785805                         3.026577  \n",
       "min                 1.173515                         4.595155  \n",
       "25%                 5.835615                        10.014167  \n",
       "50%                 8.483845                        11.656643  \n",
       "75%                12.263635                        13.760751  \n",
       "max                41.731574                        24.649485  "
      ]
     },
     "execution_count": 9,
     "metadata": {},
     "output_type": "execute_result"
    }
   ],
   "source": [
    "# Some decriptive statistics to get a picture of the distributions\n",
    "phi.describe()"
   ]
  },
  {
   "cell_type": "markdown",
   "id": "08b4f0be",
   "metadata": {},
   "source": [
    "## Scaling Features\n",
    "\n",
    "It is important to scale our features due to potential biases influencing the relative influences of features due to the varying numerical values of the features. For instance, for two features of the same influence in a linear regression, if a feature contains very low values, then the learned weight coefficient for that feature will be notably larger than the other feature with larger values. This is due to having to multiply the smaller vector by a larger weight to achieve the same output as the larger feature vector. Note that both the Bayesian Linear Regression and the Gaussian Process Regression have this scaling requirement. "
   ]
  },
  {
   "cell_type": "code",
   "execution_count": 14,
   "id": "d42befee",
   "metadata": {},
   "outputs": [],
   "source": [
    "# Scale variables to minimize bias between features\n",
    "scalar = StandardScaler()\n",
    "data = pd.DataFrame(scalar.fit_transform(phi), columns=phi.columns.values)"
   ]
  }
 ],
 "metadata": {
  "kernelspec": {
   "display_name": "Python 3 (ipykernel)",
   "language": "python",
   "name": "python3"
  },
  "language_info": {
   "codemirror_mode": {
    "name": "ipython",
    "version": 3
   },
   "file_extension": ".py",
   "mimetype": "text/x-python",
   "name": "python",
   "nbconvert_exporter": "python",
   "pygments_lexer": "ipython3",
   "version": "3.9.16"
  }
 },
 "nbformat": 4,
 "nbformat_minor": 5
}
